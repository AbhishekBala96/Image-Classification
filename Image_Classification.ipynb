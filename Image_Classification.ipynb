{
  "nbformat": 4,
  "nbformat_minor": 0,
  "metadata": {
    "colab": {
      "name": "Image_Classification.ipynb",
      "provenance": [],
      "collapsed_sections": []
    },
    "kernelspec": {
      "name": "python3",
      "display_name": "Python 3"
    }
  },
  "cells": [
    {
      "cell_type": "code",
      "metadata": {
        "id": "HzCc23zSHYN_",
        "colab_type": "code",
        "colab": {}
      },
      "source": [
        "import numpy as np\n",
        "import pandas as pd\n",
        "from matplotlib import pyplot as plt\n",
        "import seaborn as sns\n",
        "from sklearn.preprocessing import StandardScaler\n",
        "from sklearn.model_selection import train_test_split"
      ],
      "execution_count": null,
      "outputs": []
    },
    {
      "cell_type": "code",
      "metadata": {
        "id": "Pgx1P-3wI9z_",
        "colab_type": "code",
        "colab": {}
      },
      "source": [
        "from google.colab import files\n",
        "train_files = files.upload(\"/content/train.zip\")\n",
        "test_files = files.upload(\"/content/test.zip\")\n",
        "\n",
        "def get_images(train_files):\n",
        "\n",
        "images=[]\n",
        "lablel=[]\n",
        "\n",
        "label =0\n",
        "\n",
        "for labels in os.listdir()"
      ],
      "execution_count": null,
      "outputs": []
    }
  ]
}