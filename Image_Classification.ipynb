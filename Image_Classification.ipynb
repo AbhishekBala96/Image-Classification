{
  "nbformat": 4,
  "nbformat_minor": 0,
  "metadata": {
    "colab": {
      "name": "Image_Classification.ipynb",
      "provenance": [],
      "collapsed_sections": []
    },
    "kernelspec": {
      "name": "python3",
      "display_name": "Python 3"
    }
  },
  "cells": [
    {
      "cell_type": "code",
      "metadata": {
        "id": "F2f-F3l4f_nm",
        "colab_type": "code",
        "colab": {
          "base_uri": "https://localhost:8080/",
          "height": 88
        },
        "outputId": "5e8469c2-2494-4c82-91c4-03020e337df1"
      },
      "source": [
        "#Loading Modules\n",
        "\n",
        "import numpy as np\n",
        "import pandas as pd\n",
        "from matplotlib import pyplot as plt\n",
        "import seaborn as sns\n",
        "from zipfile import ZipFile\n",
        "from sklearn.utils import shuffle\n",
        "from google.colab import files\n",
        "from IPython.display import Image\n",
        "import cv2\n",
        "from PIL import Image\n",
        "import os\n",
        "import tensorflow as tf\n",
        "import tensorflow .keras as keras\n",
        "from keras.utils import to_categorical\n",
        "from keras.preprocessing.image import ImageDataGenerator\n",
        "from keras import Sequential\n",
        "from keras.layers import Dense, Conv2D, Dropout, Flatten, MaxPooling2D, BatchNormalization"
      ],
      "execution_count": 1,
      "outputs": [
        {
          "output_type": "stream",
          "text": [
            "/usr/local/lib/python3.6/dist-packages/statsmodels/tools/_testing.py:19: FutureWarning: pandas.util.testing is deprecated. Use the functions in the public API at pandas.testing instead.\n",
            "  import pandas.util.testing as tm\n",
            "Using TensorFlow backend.\n"
          ],
          "name": "stderr"
        }
      ]
    },
    {
      "cell_type": "code",
      "metadata": {
        "id": "nZeKkHc82HgW",
        "colab_type": "code",
        "colab": {
          "base_uri": "https://localhost:8080/",
          "height": 51
        },
        "outputId": "38bd92a6-c819-44cb-a24f-b0e6a631474f"
      },
      "source": [
        "#Extracting Data\n",
        "\n",
        "train_data =\"/content/train.zip\"\n",
        "test_data = \"/content/test.zip\"\n",
        "\n",
        "with ZipFile(train_data, 'r') as zip:\n",
        "  zip.extractall()\n",
        "  print('done')\n",
        "with ZipFile(test_data, 'r') as zip:\n",
        "  zip.extractall()\n",
        "  print('done')"
      ],
      "execution_count": 2,
      "outputs": [
        {
          "output_type": "stream",
          "text": [
            "done\n",
            "done\n"
          ],
          "name": "stdout"
        }
      ]
    },
    {
      "cell_type": "code",
      "metadata": {
        "id": "R3sVUELkjc2V",
        "colab_type": "code",
        "colab": {
          "base_uri": "https://localhost:8080/",
          "height": 51
        },
        "outputId": "4c9e641b-72f4-49e3-8f0d-f0efef9af54a"
      },
      "source": [
        "#Setup image generators\n",
        "\n",
        "base_path=\"/content/\"\n",
        "\n",
        "image_datagen = ImageDataGenerator(rescale=1/255, validation_split=0.2, horizontal_flip=True)\n",
        "\n",
        "train_generator = image_datagen.flow_from_directory(base_path + \"train\", \n",
        "                                                    target_size=(300,300),\n",
        "                                                    subset='training',\n",
        "                                                    class_mode='categorical',\n",
        "                                                    shuffle=True)\n",
        "\n",
        "validation_generator = image_datagen.flow_from_directory(base_path + \"train\", \n",
        "                                                    target_size=(300,300),\n",
        "                                                    subset='validation',\n",
        "                                                    class_mode='categorical',\n",
        "                                                    shuffle=True)"
      ],
      "execution_count": 3,
      "outputs": [
        {
          "output_type": "stream",
          "text": [
            "Found 354 images belonging to 4 classes.\n",
            "Found 86 images belonging to 4 classes.\n"
          ],
          "name": "stdout"
        }
      ]
    },
    {
      "cell_type": "code",
      "metadata": {
        "id": "5Pg0O-iDntef",
        "colab_type": "code",
        "colab": {}
      },
      "source": [
        "#Creating model\n",
        "\n",
        "model = Sequential()\n",
        "\n",
        "model.add(Conv2D(32, kernel_size=(3,3), activation='relu', input_shape=(300,300,3)))\n",
        "model.add(BatchNormalization())\n",
        "model.add(MaxPooling2D(pool_size=(2,2)))\n",
        "model.add(Dropout(0.2))\n",
        "model.add(Conv2D(64, kernel_size=(3,3), activation='relu'))\n",
        "model.add(BatchNormalization())\n",
        "model.add(Dropout(0.2))\n",
        "model.add(MaxPooling2D(pool_size=(2,2)))\n",
        "model.add(Flatten())\n",
        "model.add(Dense(500, activation='relu'))\n",
        "model.add(Dropout(0.3))\n",
        "model.add(Dense(4, activation='softmax'))\n",
        "model.summary\n",
        "model.compile(optimizer='adam', loss='categorical_crossentropy', metrics=['accuracy'])"
      ],
      "execution_count": 4,
      "outputs": []
    },
    {
      "cell_type": "code",
      "metadata": {
        "id": "XPDLlZ5Xn1AB",
        "colab_type": "code",
        "colab": {
          "base_uri": "https://localhost:8080/",
          "height": 377
        },
        "outputId": "e8b00564-f029-4904-b36d-6faa6ff29909"
      },
      "source": [
        "#Training model\n",
        "\n",
        "trained = model.fit_generator(generator=train_generator,\n",
        "                              steps_per_epoch=train_generator.n//train_generator.batch_size,\n",
        "                              epochs=10,\n",
        "                              validation_data=validation_generator,\n",
        "                              validation_steps=validation_generator.n//validation_generator.batch_size\n",
        "                              )"
      ],
      "execution_count": 5,
      "outputs": [
        {
          "output_type": "stream",
          "text": [
            "Epoch 1/10\n",
            "11/11 [==============================] - 114s 10s/step - loss: 317.8506 - accuracy: 0.4348 - val_loss: 26.2737 - val_accuracy: 0.2656\n",
            "Epoch 2/10\n",
            "11/11 [==============================] - 111s 10s/step - loss: 54.1999 - accuracy: 0.7050 - val_loss: 39.3864 - val_accuracy: 0.4074\n",
            "Epoch 3/10\n",
            "11/11 [==============================] - 110s 10s/step - loss: 22.5656 - accuracy: 0.8602 - val_loss: 32.5775 - val_accuracy: 0.4259\n",
            "Epoch 4/10\n",
            "11/11 [==============================] - 115s 10s/step - loss: 9.3792 - accuracy: 0.8977 - val_loss: 22.4012 - val_accuracy: 0.4531\n",
            "Epoch 5/10\n",
            "11/11 [==============================] - 111s 10s/step - loss: 2.1241 - accuracy: 0.9689 - val_loss: 33.3022 - val_accuracy: 0.3519\n",
            "Epoch 6/10\n",
            "11/11 [==============================] - 104s 9s/step - loss: 1.8487 - accuracy: 0.9760 - val_loss: 21.3077 - val_accuracy: 0.4815\n",
            "Epoch 7/10\n",
            "11/11 [==============================] - 114s 10s/step - loss: 2.2503 - accuracy: 0.9688 - val_loss: 18.6372 - val_accuracy: 0.4531\n",
            "Epoch 8/10\n",
            "11/11 [==============================] - 110s 10s/step - loss: 0.4155 - accuracy: 0.9938 - val_loss: 24.5946 - val_accuracy: 0.4259\n",
            "Epoch 9/10\n",
            "11/11 [==============================] - 109s 10s/step - loss: 0.4885 - accuracy: 0.9876 - val_loss: 26.9920 - val_accuracy: 0.5185\n",
            "Epoch 10/10\n",
            "11/11 [==============================] - 110s 10s/step - loss: 0.3466 - accuracy: 0.9876 - val_loss: 23.6126 - val_accuracy: 0.5156\n"
          ],
          "name": "stdout"
        }
      ]
    },
    {
      "cell_type": "code",
      "metadata": {
        "id": "hdgj9h6YUyBD",
        "colab_type": "code",
        "colab": {
          "base_uri": "https://localhost:8080/",
          "height": 478
        },
        "outputId": "8c68249c-6e6f-4f6d-f0b6-2e84524018ef"
      },
      "source": [
        "#PLotting the Loss and Acuuracy\n",
        "\n",
        "plt.figure(figsize=(20,10))\n",
        "plt.subplot(1, 2, 1)\n",
        "plt.ylabel('Loss', fontsize=16)\n",
        "plt.plot(trained.history['loss'], label='Training Loss')\n",
        "plt.plot(trained.history['val_loss'], label='Validation Loss')\n",
        "plt.legend()\n",
        "\n",
        "plt.subplot(1, 2, 2)\n",
        "plt.ylabel('Accuracy', fontsize=16)\n",
        "plt.plot(trained.history['accuracy'], label='Training Accuracy')\n",
        "plt.plot(trained.history['val_accuracy'], label='Validation Accuracy')\n",
        "plt.legend()\n",
        "plt.show()"
      ],
      "execution_count": 6,
      "outputs": [
        {
          "output_type": "display_data",
          "data": {
            "image/png": "[encoded data removed]",
            "text/plain": [
              "<Figure size 1440x720 with 2 Axes>"
            ]
          },
          "metadata": {
            "tags": [],
            "needs_background": "light"
          }
        }
      ]
    },
    {
      "cell_type": "code",
      "metadata": {
        "id": "K6s662PUj6Uc",
        "colab_type": "code",
        "colab": {}
      },
      "source": [
        "model.save(\"trained_model.h5\")"
      ],
      "execution_count": 27,
      "outputs": []
    },
    {
      "cell_type": "code",
      "metadata": {
        "id": "oTZGnAi3gZUd",
        "colab_type": "code",
        "colab": {
          "base_uri": "https://localhost:8080/",
          "height": 34
        },
        "outputId": "944e5f06-64c2-4e57-af8f-72a28f6fadaf"
      },
      "source": [
        "#Creating Test generator\n",
        "\n",
        "image_testgen=ImageDataGenerator(rescale=1/255)\n",
        "test_generator = image_testgen.flow_from_directory('.', classes=['test'], target_size=(300,300), shuffle=False)"
      ],
      "execution_count": 24,
      "outputs": [
        {
          "output_type": "stream",
          "text": [
            "Found 30 images belonging to 1 classes.\n"
          ],
          "name": "stdout"
        }
      ]
    },
    {
      "cell_type": "code",
      "metadata": {
        "id": "2Pg2roiPi4mt",
        "colab_type": "code",
        "colab": {}
      },
      "source": [
        "#Predicting Test data\n",
        "\n",
        "predictions=model.predict_generator(generator=test_generator)"
      ],
      "execution_count": 67,
      "outputs": []
    },
    {
      "cell_type": "code",
      "metadata": {
        "id": "Bu_xky4Yyq1J",
        "colab_type": "code",
        "colab": {}
      },
      "source": [
        "#Getting Labels for Prediccted data\n",
        "\n",
        "pred_class = np.argmax(predictions, axis=1)\n",
        "\n",
        "class_Index = {v:k for k,v in train_generator.class_indices.items()}\n",
        "class_Names= [class_Index[k] for k in pred_class]"
      ],
      "execution_count": 70,
      "outputs": []
    },
    {
      "cell_type": "code",
      "metadata": {
        "id": "2FPvRB-91FNT",
        "colab_type": "code",
        "colab": {}
      },
      "source": [
        "#Creating dataframe \n",
        "\n",
        "filenames = test_generator.filenames\n",
        "result = pd.DataFrame({\"Filename\":filenames, \"Predictions\":class_Names})"
      ],
      "execution_count": 76,
      "outputs": []
    },
    {
      "cell_type": "code",
      "metadata": {
        "id": "Qk1W0S7w0_NY",
        "colab_type": "code",
        "colab": {
          "base_uri": "https://localhost:8080/",
          "height": 544
        },
        "outputId": "99311588-3d10-405a-a470-ca9f61a00e45"
      },
      "source": [
        "print(result)"
      ],
      "execution_count": 73,
      "outputs": [
        {
          "output_type": "stream",
          "text": [
            "                                             Filename Predictions\n",
            "0                                       test/1051.png  category 2\n",
            "1                                       test/1052.png  category 2\n",
            "2                                       test/4043.png  category 2\n",
            "3                                       test/4050.png  category 2\n",
            "4                                       test/4051.png  category 2\n",
            "5                                       test/4052.png  category 2\n",
            "6                                       test/6052.png  category 2\n",
            "7                                       test/6053.png  category 2\n",
            "8                                       test/C052.png  category 4\n",
            "9                                       test/C053.png  category 4\n",
            "10  test/Test_original_1051.png_271f7fb1-f0ab-4ca7...  category 2\n",
            "11  test/Test_original_1052.png_22a82512-5b1f-4072...  category 1\n",
            "12  test/Test_original_1052.png_b95bc311-bae0-48a7...  category 2\n",
            "13  test/Test_original_4043.png_615f9058-5c5c-4430...  category 3\n",
            "14  test/Test_original_4043.png_fffcbc29-3aff-40c0...  category 2\n",
            "15  test/Test_original_4051.png_b90a2ba4-87c6-41e6...  category 2\n",
            "16  test/Test_original_4052.png_209d62b3-92ce-4e4d...  category 3\n",
            "17  test/Test_original_4052.png_31cd9a66-9edc-4445...  category 2\n",
            "18  test/Test_original_4052.png_78b7cca7-2a16-4f3c...  category 2\n",
            "19  test/Test_original_4052.png_a2ba34f8-9e8b-4b2d...  category 2\n",
            "20  test/Test_original_6052.png_25bb57e2-b542-47c3...  category 2\n",
            "21  test/Test_original_6052.png_51c87ecf-ede6-4152...  category 2\n",
            "22  test/Test_original_6052.png_9950e35a-38c7-4388...  category 4\n",
            "23  test/Test_original_6053.png_16f2063e-9590-4ae5...  category 2\n",
            "24  test/Test_original_6053.png_445dbbe1-4b09-4d56...  category 2\n",
            "25  test/Test_original_6053.png_62171105-bdaa-4eb5...  category 2\n",
            "26  test/Test_original_6053.png_c34c8352-0830-4853...  category 2\n",
            "27  test/Test_original_C052.png_5c226e55-09ba-4fd0...  category 4\n",
            "28  test/Test_original_C053.png_84d8e7c9-490f-4579...  category 4\n",
            "29  test/Test_original_C053.png_e7d20702-793e-4207...  category 4\n"
          ],
          "name": "stdout"
        }
      ]
    },
    {
      "cell_type": "code",
      "metadata": {
        "id": "o8deHkZp1lHJ",
        "colab_type": "code",
        "colab": {}
      },
      "source": [
        "result.to_csv(\"Predicted_Images.csv\", index=False)"
      ],
      "execution_count": 79,
      "outputs": []
    }
  ]
}